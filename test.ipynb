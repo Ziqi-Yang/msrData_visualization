{
 "cells": [
  {
   "cell_type": "code",
   "execution_count": 7,
   "metadata": {},
   "outputs": [],
   "source": [
    "import matplotlib.pyplot as plt\n",
    "import matplotlib.animation as animation\n",
    "import pandas as pd\n",
    "import numpy as np"
   ]
  },
  {
   "cell_type": "code",
   "execution_count": 10,
   "metadata": {},
   "outputs": [
    {
     "data": {
      "text/plain": [
       "array([[ 3.710310e-01,  2.674849e+00, -3.717360e-01],\n",
       "       [ 3.553410e-01,  2.678124e+00, -1.409500e-02],\n",
       "       [ 4.086530e-01,  2.581967e+00, -1.900550e-01],\n",
       "       [ 2.079940e-01,  2.773580e+00, -2.006130e-01],\n",
       "       [-1.358800e-02,  2.642459e+00, -3.357550e-01],\n",
       "       [-1.700800e-02,  2.629821e+00, -5.481000e-02],\n",
       "       [ 2.549000e-03,  2.759828e+00, -1.895010e-01],\n",
       "       [ 1.096410e-01,  2.668247e+00, -4.323160e-01],\n",
       "       [ 9.143100e-02,  2.682739e+00,  3.457800e-02],\n",
       "       [-1.748000e-01,  2.618515e+00, -4.071580e-01],\n",
       "       [-1.900940e-01,  2.615780e+00,  1.806800e-02],\n",
       "       [-2.420260e-01,  2.629925e+00, -4.106280e-01],\n",
       "       [-2.581550e-01,  2.610892e+00,  1.574700e-02],\n",
       "       [-5.862040e-01,  2.703399e+00, -3.100580e-01],\n",
       "       [-5.848120e-01,  2.702843e+00, -6.720000e-02],\n",
       "       [-1.002793e+00,  2.790066e+00, -3.457210e-01],\n",
       "       [-1.010157e+00,  2.738077e+00, -5.419700e-02],\n",
       "       [-1.036099e+00,  2.625393e+00, -3.568460e-01],\n",
       "       [-1.024209e+00,  2.570371e+00, -5.942100e-02],\n",
       "       [ 6.596180e-01,  2.547210e+00, -1.825930e-01]])"
      ]
     },
     "execution_count": 10,
     "metadata": {},
     "output_type": "execute_result"
    }
   ],
   "source": [
    "keyPoints = pd.read_csv('./msrData/a01_s01_e01_skeleton3D.txt',sep=' ',header=None)\n",
    "keyPoints.columns=['z',\"x\",\"y\",\"c\"]\n",
    "order = [\"x\",\"y\",\"z\"]\n",
    "keyPoints = keyPoints[order] # 改变顺序和去掉c\n",
    "np.array(keyPoints.iloc[:20])"
   ]
  }
 ],
 "metadata": {
  "interpreter": {
   "hash": "ac59ebe37160ed0dfa835113d9b8498d9f09ceb179beaac4002f036b9467c963"
  },
  "kernelspec": {
   "display_name": "Python 3.9.6 64-bit",
   "language": "python",
   "name": "python3"
  },
  "language_info": {
   "codemirror_mode": {
    "name": "ipython",
    "version": 3
   },
   "file_extension": ".py",
   "mimetype": "text/x-python",
   "name": "python",
   "nbconvert_exporter": "python",
   "pygments_lexer": "ipython3",
   "version": "3.9.6"
  },
  "orig_nbformat": 4
 },
 "nbformat": 4,
 "nbformat_minor": 2
}
